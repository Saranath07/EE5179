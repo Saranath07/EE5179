{
 "cells": [
  {
   "cell_type": "markdown",
   "metadata": {},
   "source": [
    "# Testing Backpropogation code"
   ]
  },
  {
   "cell_type": "code",
   "execution_count": 3,
   "metadata": {},
   "outputs": [],
   "source": [
    "from NeuralNets import FeedForwardNeuralNets\n",
    "import numpy as np\n",
    "\n",
    "X = np.array(\n",
    "    [[1, 0, 1]]\n",
    ")\n",
    "\n",
    "Y = np.array(\n",
    "    [[0, 0, 1]]\n",
    ")\n",
    "\n",
    "\n",
    "model = FeedForwardNeuralNets(X, [3], Y, optimizer=\"adam\")\n",
    "\n",
    "\n",
    "model.train(500)"
   ]
  },
  {
   "cell_type": "code",
   "execution_count": 4,
   "metadata": {},
   "outputs": [
    {
     "data": {
      "text/plain": [
       "array([0.00102595, 0.0021099 , 0.99686416])"
      ]
     },
     "execution_count": 4,
     "metadata": {},
     "output_type": "execute_result"
    }
   ],
   "source": [
    "model.evaluate(X[0])"
   ]
  },
  {
   "cell_type": "code",
   "execution_count": 7,
   "metadata": {},
   "outputs": [],
   "source": [
    "Y_pred = []\n",
    "for i in range(len(X)):\n",
    "    Y_pred.append(model.evaluate(X[i]))"
   ]
  },
  {
   "cell_type": "code",
   "execution_count": 8,
   "metadata": {},
   "outputs": [
    {
     "data": {
      "text/plain": [
       "(array([[0.00685056, 0.00837635, 0.98477309]]), array([[0, 0, 1]]))"
      ]
     },
     "execution_count": 8,
     "metadata": {},
     "output_type": "execute_result"
    }
   ],
   "source": [
    "np.array(Y_pred), Y"
   ]
  },
  {
   "cell_type": "code",
   "execution_count": 6,
   "metadata": {},
   "outputs": [
    {
     "data": {
      "text/plain": [
       "3"
      ]
     },
     "execution_count": 6,
     "metadata": {},
     "output_type": "execute_result"
    }
   ],
   "source": [
    "Y.shape[1]"
   ]
  },
  {
   "cell_type": "code",
   "execution_count": 2,
   "metadata": {},
   "outputs": [
    {
     "data": {
      "text/plain": [
       "{'W1': array([[ 0.25997786, -0.17809446,  0.20110253],\n",
       "        [-0.32590173, -1.03563709,  0.2516722 ],\n",
       "        [-0.69068281,  0.85859981, -0.55948823]]),\n",
       " 'b1': array([ 0.07146537,  1.64966975, -0.81977554]),\n",
       " 'W2': array([[0.67419371, 0.15185992, 0.44700593],\n",
       "        [0.9744497 , 0.9956726 , 0.45230695],\n",
       "        [0.89104049, 0.93548917, 0.43082721]]),\n",
       " 'b2': array([0.90336002, 0.9612695 , 0.7919596 ])}"
      ]
     },
     "execution_count": 2,
     "metadata": {},
     "output_type": "execute_result"
    }
   ],
   "source": [
    "model.parameters"
   ]
  },
  {
   "cell_type": "code",
   "execution_count": 6,
   "metadata": {},
   "outputs": [
    {
     "name": "stdout",
     "output_type": "stream",
     "text": [
      "One-hot encoded y:\n",
      "[[0. 1.]\n",
      " [1. 0.]\n",
      " [0. 1.]\n",
      " [1. 0.]\n",
      " [0. 1.]\n",
      " [1. 0.]\n",
      " [0. 1.]\n",
      " [1. 0.]\n",
      " [0. 1.]\n",
      " [1. 0.]]\n"
     ]
    }
   ],
   "source": [
    "import numpy as np \n",
    "from NeuralNets import FeedForwardNeuralNets\n",
    "X = np.array([\n",
    "    [0.1, 0.5, 0.2, 0.9, 0.3, 0.6, 0.4, 0.8, 0.7, 0.2],\n",
    "    [0.3, 0.2, 0.7, 0.4, 0.6, 0.8, 0.9, 0.5, 0.1, 0.3],\n",
    "    [0.8, 0.9, 0.4, 0.1, 0.5, 0.2, 0.7, 0.6, 0.3, 0.9],\n",
    "    [0.6, 0.2, 0.3, 0.7, 0.4, 0.1, 0.8, 0.9, 0.5, 0.6],\n",
    "    [0.5, 0.1, 0.8, 0.2, 0.9, 0.7, 0.3, 0.4, 0.6, 0.5],\n",
    "    [0.7, 0.3, 0.6, 0.5, 0.8, 0.4, 0.1, 0.2, 0.9, 0.7],\n",
    "    [0.2, 0.8, 0.1, 0.6, 0.4, 0.5, 0.7, 0.3, 0.2, 0.8],\n",
    "    [0.9, 0.6, 0.5, 0.3, 0.7, 0.2, 0.4, 0.1, 0.8, 0.6],\n",
    "    [0.4, 0.7, 0.9, 0.8, 0.2, 0.3, 0.6, 0.5, 0.1, 0.4],\n",
    "    [0.5, 0.3, 0.7, 0.4, 0.1, 0.8, 0.2, 0.6, 0.7, 0.5]\n",
    "])\n",
    "\n",
    "y = np.array([1, 0, 1, 0, 1, 0, 1, 0, 1, 0])\n",
    "num_classes = len(np.unique(y))\n",
    "y_one_hot = np.eye(num_classes)[y]\n",
    "\n",
    "print(\"One-hot encoded y:\")\n",
    "print(y_one_hot)"
   ]
  },
  {
   "cell_type": "code",
   "execution_count": 12,
   "metadata": {},
   "outputs": [],
   "source": [
    "from lossfunctions import LossFunctions\n",
    "from activations import Linear\n",
    "\n",
    "squaredError = LossFunctions.SquaredError()\n",
    "\n",
    "\n",
    "model = FeedForwardNeuralNets(X, [10], y_one_hot, optimizer=\"adam\")\n",
    "\n",
    "\n",
    "model.train(5000)"
   ]
  },
  {
   "cell_type": "code",
   "execution_count": 13,
   "metadata": {},
   "outputs": [
    {
     "name": "stdout",
     "output_type": "stream",
     "text": [
      "[0.00167127 0.99832873]\n",
      "[0.9953784 0.0046216]\n",
      "[4.38098471e-04 9.99561902e-01]\n",
      "[9.99685362e-01 3.14638319e-04]\n",
      "[0.00789626 0.99210374]\n",
      "[0.99327361 0.00672639]\n",
      "[3.65150055e-04 9.99634850e-01]\n",
      "[9.99461116e-01 5.38884305e-04]\n",
      "[0.00161463 0.99838537]\n",
      "[0.9959225 0.0040775]\n"
     ]
    }
   ],
   "source": [
    "for i in X:\n",
    "    print(model.evaluate(i))"
   ]
  }
 ],
 "metadata": {
  "kernelspec": {
   "display_name": "Python 3",
   "language": "python",
   "name": "python3"
  },
  "language_info": {
   "codemirror_mode": {
    "name": "ipython",
    "version": 3
   },
   "file_extension": ".py",
   "mimetype": "text/x-python",
   "name": "python",
   "nbconvert_exporter": "python",
   "pygments_lexer": "ipython3",
   "version": "3.12.4"
  }
 },
 "nbformat": 4,
 "nbformat_minor": 2
}
