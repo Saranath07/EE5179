{
 "cells": [
  {
   "cell_type": "markdown",
   "metadata": {},
   "source": [
    "# Testing Backpropogation code"
   ]
  },
  {
   "cell_type": "code",
   "execution_count": 1,
   "metadata": {},
   "outputs": [],
   "source": [
    "from NeuralNets import FeedForwardNeuralNets\n",
    "import numpy as np\n",
    "\n",
    "X = np.array(\n",
    "    [[1, 0, 1]]\n",
    ")\n",
    "\n",
    "Y = np.array(\n",
    "    [[0, 0, 1]]\n",
    ")\n",
    "\n",
    "\n",
    "model = FeedForwardNeuralNets(X, [3], Y, optimizer=\"adam\")\n",
    "\n",
    "\n",
    "model.train(500)"
   ]
  },
  {
   "cell_type": "code",
   "execution_count": 3,
   "metadata": {},
   "outputs": [
    {
     "data": {
      "text/plain": [
       "array([8.32313488e-04, 6.99473478e-04, 9.98468213e-01])"
      ]
     },
     "execution_count": 3,
     "metadata": {},
     "output_type": "execute_result"
    }
   ],
   "source": [
    "model.evaluate(X[0])"
   ]
  },
  {
   "cell_type": "code",
   "execution_count": 4,
   "metadata": {},
   "outputs": [],
   "source": [
    "Y_pred = []\n",
    "for i in range(len(X)):\n",
    "    Y_pred.append(model.evaluate(X[i]))"
   ]
  },
  {
   "cell_type": "code",
   "execution_count": 5,
   "metadata": {},
   "outputs": [
    {
     "data": {
      "text/plain": [
       "(array([[8.32313488e-04, 6.99473478e-04, 9.98468213e-01]]), array([[0, 0, 1]]))"
      ]
     },
     "execution_count": 5,
     "metadata": {},
     "output_type": "execute_result"
    }
   ],
   "source": [
    "np.array(Y_pred), Y"
   ]
  },
  {
   "cell_type": "code",
   "execution_count": 6,
   "metadata": {},
   "outputs": [
    {
     "data": {
      "text/plain": [
       "3"
      ]
     },
     "execution_count": 6,
     "metadata": {},
     "output_type": "execute_result"
    }
   ],
   "source": [
    "Y.shape[1]"
   ]
  },
  {
   "cell_type": "code",
   "execution_count": 7,
   "metadata": {},
   "outputs": [
    {
     "data": {
      "text/plain": [
       "{'W1': array([[ 0.1559491 , -0.59534598,  0.02337649],\n",
       "        [ 1.11253317,  0.52711763,  1.21102024],\n",
       "        [-0.51604917,  0.98596814, -0.50683382]]),\n",
       " 'b1': array([0.88687105, 0.33197113, 1.40211302]),\n",
       " 'W2': array([[-0.4115832 , -1.48675831, -0.58782822],\n",
       "        [-0.21902098, -1.42000498, -0.4692655 ],\n",
       "        [ 1.34422751,  1.80003479,  1.15448668]]),\n",
       " 'b2': array([-0.22193922, -0.67182255,  1.45632139])}"
      ]
     },
     "execution_count": 7,
     "metadata": {},
     "output_type": "execute_result"
    }
   ],
   "source": [
    "model.parameters"
   ]
  },
  {
   "cell_type": "code",
   "execution_count": 8,
   "metadata": {},
   "outputs": [
    {
     "name": "stdout",
     "output_type": "stream",
     "text": [
      "One-hot encoded y:\n",
      "[[0. 1.]\n",
      " [1. 0.]\n",
      " [0. 1.]\n",
      " [1. 0.]\n",
      " [0. 1.]\n",
      " [1. 0.]\n",
      " [0. 1.]\n",
      " [1. 0.]\n",
      " [0. 1.]\n",
      " [1. 0.]]\n"
     ]
    }
   ],
   "source": [
    "import numpy as np \n",
    "from NeuralNets import FeedForwardNeuralNets\n",
    "X = np.array([\n",
    "    [0.1, 0.5, 0.2, 0.9, 0.3, 0.6, 0.4, 0.8, 0.7, 0.2],\n",
    "    [0.3, 0.2, 0.7, 0.4, 0.6, 0.8, 0.9, 0.5, 0.1, 0.3],\n",
    "    [0.8, 0.9, 0.4, 0.1, 0.5, 0.2, 0.7, 0.6, 0.3, 0.9],\n",
    "    [0.6, 0.2, 0.3, 0.7, 0.4, 0.1, 0.8, 0.9, 0.5, 0.6],\n",
    "    [0.5, 0.1, 0.8, 0.2, 0.9, 0.7, 0.3, 0.4, 0.6, 0.5],\n",
    "    [0.7, 0.3, 0.6, 0.5, 0.8, 0.4, 0.1, 0.2, 0.9, 0.7],\n",
    "    [0.2, 0.8, 0.1, 0.6, 0.4, 0.5, 0.7, 0.3, 0.2, 0.8],\n",
    "    [0.9, 0.6, 0.5, 0.3, 0.7, 0.2, 0.4, 0.1, 0.8, 0.6],\n",
    "    [0.4, 0.7, 0.9, 0.8, 0.2, 0.3, 0.6, 0.5, 0.1, 0.4],\n",
    "    [0.5, 0.3, 0.7, 0.4, 0.1, 0.8, 0.2, 0.6, 0.7, 0.5]\n",
    "])\n",
    "\n",
    "y = np.array([1, 0, 1, 0, 1, 0, 1, 0, 1, 0])\n",
    "num_classes = len(np.unique(y))\n",
    "y_one_hot = np.eye(num_classes)[y]\n",
    "\n",
    "print(\"One-hot encoded y:\")\n",
    "print(y_one_hot)"
   ]
  },
  {
   "cell_type": "code",
   "execution_count": 9,
   "metadata": {},
   "outputs": [
    {
     "data": {
      "text/plain": [
       "(10,)"
      ]
     },
     "execution_count": 9,
     "metadata": {},
     "output_type": "execute_result"
    }
   ],
   "source": [
    "y.shape"
   ]
  },
  {
   "cell_type": "code",
   "execution_count": 10,
   "metadata": {},
   "outputs": [
    {
     "data": {
      "text/plain": [
       "(10, 2)"
      ]
     },
     "execution_count": 10,
     "metadata": {},
     "output_type": "execute_result"
    }
   ],
   "source": [
    "y_one_hot.shape"
   ]
  },
  {
   "cell_type": "code",
   "execution_count": 11,
   "metadata": {},
   "outputs": [],
   "source": [
    "from lossfunctions import LossFunctions\n",
    "from activations import Activations\n",
    "\n",
    "squaredError = LossFunctions.SquaredErrorLoss()\n",
    "linear = Activations.Linear()\n",
    "\n",
    "model = FeedForwardNeuralNets(X, [10], y, optimizer=\"adam\", O=linear, L=squaredError)\n",
    "\n",
    "\n",
    "model.train(5000)"
   ]
  },
  {
   "cell_type": "code",
   "execution_count": 15,
   "metadata": {},
   "outputs": [
    {
     "data": {
      "text/plain": [
       "{'W1': array([[-1.58535301,  1.0642294 , -0.59078827,  0.2532779 , -0.21750416,\n",
       "          1.01450647, -0.30460906, -1.09101799, -1.93226555, -1.13683003],\n",
       "        [ 1.92490259, -1.36967649, -0.33714316, -0.85383308, -0.21537691,\n",
       "         -0.72404152,  1.37262329, -0.57170264, -0.06467089,  0.40730963],\n",
       "        [-0.69686003, -0.41470769,  3.14593088, -4.10801332,  0.99110561,\n",
       "         -0.51931332, -1.54213237, -0.83356154, -2.79396896,  1.24524718],\n",
       "        [ 0.93735284, -1.69739257,  0.55915956,  0.45928351, -2.38372465,\n",
       "          1.89509825,  2.18950148, -1.1731903 , -2.02593343, -1.08494988],\n",
       "        [-1.24135666,  1.6374435 ,  1.40515731, -2.05553883,  0.99020343,\n",
       "         -1.74954629,  0.94400171,  1.39346432, -0.7377718 , -0.04014289],\n",
       "        [-0.08997475,  1.26542782,  0.92453895,  1.86803537,  0.7388022 ,\n",
       "         -2.65493553, -0.21108293, -1.86022558, -2.20201528, -1.87390291],\n",
       "        [-2.45197122,  0.35304002, -0.16171061,  1.89849987, -0.4981151 ,\n",
       "         -0.79566622, -0.73971879,  0.66261123, -0.59479021, -0.34644528],\n",
       "        [ 0.72976959, -1.3520038 , -0.8162017 ,  0.16033436,  1.00615341,\n",
       "         -2.01166303,  2.3956971 , -2.08904275,  1.24633665, -0.60159184],\n",
       "        [ 2.64622671, -1.82006515,  0.0388859 ,  0.56986827, -1.34049481,\n",
       "         -0.35983741,  2.70826107, -0.29927594,  1.21451095, -0.59757005],\n",
       "        [ 2.03767068, -2.0126489 ,  2.97395153, -2.55746753,  0.74498607,\n",
       "          1.44848001, -0.24539434, -2.46742974,  0.21083243,  0.82625083]]),\n",
       " 'b1': array([-0.53550484,  0.09021708,  0.59705315, -0.89309782,  0.43745893,\n",
       "         0.05829919, -0.59720806,  1.04405064, -1.27685405,  1.16763228]),\n",
       " 'W2': array([[ 0.24971237,  0.53583089, -1.24963812,  1.05095777, -1.36834503,\n",
       "         -0.35772512, -0.56814392,  0.35624822,  1.04232419,  0.61663739],\n",
       "        [ 0.2006303 ,  0.11675783,  1.37763147, -1.05764449,  1.06667855,\n",
       "          0.42885949,  0.96085588, -0.51820592, -1.12131442, -0.59471444]]),\n",
       " 'b2': array([0.12414652, 0.72790501])}"
      ]
     },
     "execution_count": 15,
     "metadata": {},
     "output_type": "execute_result"
    }
   ],
   "source": [
    "model.parameters"
   ]
  },
  {
   "cell_type": "code",
   "execution_count": 12,
   "metadata": {},
   "outputs": [
    {
     "name": "stdout",
     "output_type": "stream",
     "text": [
      "[0.99978928]\n",
      "[1.89235588e-05]\n",
      "[1.00037457]\n",
      "[-3.28599033e-05]\n",
      "[0.99932139]\n",
      "[0.0005834]\n",
      "[0.99965203]\n",
      "[-0.00154621]\n",
      "[1.00009625]\n",
      "[-0.00072154]\n"
     ]
    }
   ],
   "source": [
    "for i in X:\n",
    "    print(model.evaluate(i))"
   ]
  }
 ],
 "metadata": {
  "kernelspec": {
   "display_name": "Python 3",
   "language": "python",
   "name": "python3"
  },
  "language_info": {
   "codemirror_mode": {
    "name": "ipython",
    "version": 3
   },
   "file_extension": ".py",
   "mimetype": "text/x-python",
   "name": "python",
   "nbconvert_exporter": "python",
   "pygments_lexer": "ipython3",
   "version": "3.12.4"
  }
 },
 "nbformat": 4,
 "nbformat_minor": 2
}
